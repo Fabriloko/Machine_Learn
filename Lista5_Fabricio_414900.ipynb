{
  "nbformat": 4,
  "nbformat_minor": 0,
  "metadata": {
    "colab": {
      "name": "Lista5_Fabricio_414900",
      "provenance": [],
      "collapsed_sections": [
        "i4j0BHUT6OEG",
        "-aYYBK8A6njt",
        "99LzC-LfMVCs"
      ],
      "authorship_tag": "ABX9TyNaVz+Nel9o6eQJlsbObpid",
      "include_colab_link": true
    },
    "kernelspec": {
      "name": "python3",
      "display_name": "Python 3"
    },
    "language_info": {
      "name": "python"
    }
  },
  "cells": [
    {
      "cell_type": "markdown",
      "metadata": {
        "id": "view-in-github",
        "colab_type": "text"
      },
      "source": [
        "<a href=\"https://colab.research.google.com/github/Fabriloko/Machine_Learn/blob/main/Lista5_Fabricio_414900.ipynb\" target=\"_parent\"><img src=\"https://colab.research.google.com/assets/colab-badge.svg\" alt=\"Open In Colab\"/></a>"
      ]
    },
    {
      "cell_type": "code",
      "metadata": {
        "id": "dtGwqJoQ5w-T"
      },
      "source": [
        "import numpy as np\n",
        "import matplotlib.pyplot as plt"
      ],
      "execution_count": null,
      "outputs": []
    },
    {
      "cell_type": "code",
      "metadata": {
        "id": "5lwZHPk25-E5"
      },
      "source": [
        "penguin_dataset = np.genfromtxt('/content/penguins.csv',delimiter=',')\n",
        "quake_dataset = np.genfromtxt('/content/quake.csv',delimiter=',')"
      ],
      "execution_count": null,
      "outputs": []
    },
    {
      "cell_type": "markdown",
      "metadata": {
        "id": "i4j0BHUT6OEG"
      },
      "source": [
        "# **Funções Uteis**"
      ]
    },
    {
      "cell_type": "code",
      "metadata": {
        "id": "AaOsq21A6R8p"
      },
      "source": [
        "# Dividir os dados em treino e teste\n",
        "def dividir_treino_teste(dados):\n",
        "  np.random.shuffle(dados)\n",
        "  X_treino = dados[:,:-1][:int(len(dados)*0.7)]\n",
        "  X_teste  = dados[:,:-1][int(len(dados)*0.7):]\n",
        "  y_treino = dados[:,[-1]][:int(len(dados)*0.7)]\n",
        "  y_teste  = dados[:,[-1]][int(len(dados)*0.7):]\n",
        "  return y_treino,y_teste,X_treino, X_teste\n",
        "\n",
        "# Normalizacao 0 ou 1\n",
        "class normalize_01():\n",
        "  def __init__(self, X):\n",
        "    self.min = np.min(X,axis=0)\n",
        "    self.max = np.max(X,axis=0)\n",
        "  def norma(self, X):\n",
        "    return (X - self.min)/(self.max - self.min)\n",
        "  def desnorm(self, X):\n",
        "    return X * (self.max - self.min) + self.min"
      ],
      "execution_count": null,
      "outputs": []
    },
    {
      "cell_type": "markdown",
      "metadata": {
        "id": "-aYYBK8A6njt"
      },
      "source": [
        "# **Questão 1**"
      ]
    },
    {
      "cell_type": "code",
      "metadata": {
        "id": "F6TXdSUb6lBc"
      },
      "source": [
        "def K_Means(dados, K):\n",
        "  iteracoes = 10\n",
        "\n",
        "  np.random.shuffle(dados)\n",
        "  X_Cluster = dados # Dados do Cluster\n",
        "  Normalize_X = normalize_01(X_Cluster)\n",
        "  X_Cluster = Normalize_X.norma(X_Cluster)\n",
        "\n",
        "  # Centroide do Cluster k\n",
        "  m_k = np.array((X_Cluster[0],X_Cluster[1],X_Cluster[3],X_Cluster[2]))\n",
        "\n",
        "  for i in range(iteracoes):  \n",
        "    # Partições de Clusters\n",
        "    C_k = np.zeros(len(X_Cluster))#np.array((X_Cluster[0],X_Cluster[1],X_Cluster[3],X_Cluster[2]))\n",
        "\n",
        "    for j in range(len(X_Cluster)):\n",
        "      distancias = []\n",
        "      for k in range(K):\n",
        "        # X_Cluster próximos do centroide m_k\n",
        "        aux = np.sqrt(np.sum((X_Cluster[j] - m_k[k]) ** 2, axis= 0))\n",
        "        distancias.append(aux)\n",
        "      C = np.argmin(distancias)\n",
        "      C_k[j] = C # Indice dos dados que pertecem ao Cluster k\n",
        "\n",
        "    for k in range(K):\n",
        "      for j in range(len(X_Cluster)):\n",
        "        if C_k[j] == k:\n",
        "          J = np.sqrt(np.sum(X_Cluster[j] - m_k[k]) ** 2) # Erro de Reconstrução\n",
        "\n",
        "            # Atualização de Centroides\n",
        "          m_k[k] = np.mean(X_Cluster[j], axis= 0) # Cada posição é um centroide co Cluster k\n",
        "\n",
        "    # delta = np.sum(np.abs(X - m)) / len(C_k)\n",
        "    # Delta = np.abs(m_Cluster - m_Cluster)\n",
        "    # DP = \n",
        "\n",
        "  return C_k, J\n",
        "\n",
        "# K = [n for n in range(4, 21)]\n",
        "# Exp_Var = []\n",
        "# for m in K:\n",
        "C, Custo = K_Means(quake_dataset, 4)"
      ],
      "execution_count": null,
      "outputs": []
    },
    {
      "cell_type": "markdown",
      "metadata": {
        "id": "99LzC-LfMVCs"
      },
      "source": [
        "# **Questão 2**"
      ]
    },
    {
      "cell_type": "code",
      "metadata": {
        "id": "NtjtXpIJMYfE"
      },
      "source": [
        "def PCA(X, M):\n",
        "  # Normalização dos Dados\n",
        "  # np.random.shuffle(X)\n",
        "  normalize_X = normalize_01(X)\n",
        "  X = normalize_X.norma(X)\n",
        "\n",
        "  # Calculando Média e Matriz de Covariância dos Dados\n",
        "  mu_X = np.mean(X, axis=0)\n",
        "  var_X = np.cov(X.T)\n",
        "\n",
        "  # Determinando autovalores e autovetores\n",
        "  autovalores, autovetores = np.linalg.eigh(var_X) \n",
        "\n",
        "  A = autovalores[autovalores.shape[0] - M: autovalores.shape[0]]\n",
        "  P = autovetores[:, autovetores.shape[1] - M: autovetores.shape[1]]\n",
        "  # Projetando os valores de X na dimensão M\n",
        "  Z = (X - mu_X) @ P\n",
        "\n",
        "  var_exp = np.sum(A)\n",
        "\n",
        "  return var_exp, Z\n"
      ],
      "execution_count": null,
      "outputs": []
    },
    {
      "cell_type": "code",
      "metadata": {
        "colab": {
          "base_uri": "https://localhost:8080/",
          "height": 397
        },
        "id": "pzL9gsf_n3CX",
        "outputId": "94de445a-40bd-4056-f274-3248ed40748a"
      },
      "source": [
        "y = penguin_dataset[:, [-1]]\n",
        "X = penguin_dataset[:,:-1]\n",
        "\n",
        "dim = (1, 2, 3, 4)\n",
        "Exp_Var = []\n",
        "for m in dim:\n",
        "  var_exp, Z= PCA(X, m)\n",
        "  Exp_Var.append(var_exp)\n",
        "  print(f\"Variancia Explicativa para {m} dimensoes é {var_exp}\")\n",
        "\n",
        "print(\"\\n\")\n",
        "plt.plot(dim, Exp_Var, '-o');\n",
        "plt.xlabel(\"Dimensoes\")\n",
        "plt.ylabel(\"Variancia Explicativa\")\n",
        "plt.title(\"Variancia Explicativa X Dimensoes\")\n",
        "plt.plot();"
      ],
      "execution_count": null,
      "outputs": [
        {
          "output_type": "stream",
          "text": [
            "Variancia Explicativa para 1 dimensoes é 0.13992555145892094\n",
            "Variancia Explicativa para 2 dimensoes é 0.17844709752107102\n",
            "Variancia Explicativa para 3 dimensoes é 0.19518868248322488\n",
            "Variancia Explicativa para 4 dimensoes é 0.2009655821695459\n",
            "\n",
            "\n"
          ],
          "name": "stdout"
        },
        {
          "output_type": "display_data",
          "data": {
            "image/png": "[encoded data removed]",
            "text/plain": [
              "<Figure size 432x288 with 1 Axes>"
            ]
          },
          "metadata": {
            "tags": [],
            "needs_background": "light"
          }
        }
      ]
    }
  ]
}