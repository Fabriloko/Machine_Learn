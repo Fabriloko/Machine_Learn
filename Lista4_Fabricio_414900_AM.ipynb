{
  "nbformat": 4,
  "nbformat_minor": 0,
  "metadata": {
    "colab": {
      "name": "Lista4_Fabricio_414900_AM",
      "provenance": [],
      "collapsed_sections": [
        "siFmm8GKX7AW",
        "nXMFCxWqBAo9",
        "4uumC8fUf5ol",
        "4kKy8RUKdGfY",
        "HQffjUsxbKhJ",
        "_fqCWJSHfIdw"
      ],
      "authorship_tag": "ABX9TyOSSn0ZMfrxsFvuBA9FLZJE",
      "include_colab_link": true
    },
    "kernelspec": {
      "name": "python3",
      "display_name": "Python 3"
    },
    "language_info": {
      "name": "python"
    }
  },
  "cells": [
    {
      "cell_type": "markdown",
      "metadata": {
        "id": "view-in-github",
        "colab_type": "text"
      },
      "source": [
        "<a href=\"https://colab.research.google.com/github/Fabriloko/Machine_Learn/blob/main/Lista4_Fabricio_414900_AM.ipynb\" target=\"_parent\"><img src=\"https://colab.research.google.com/assets/colab-badge.svg\" alt=\"Open In Colab\"/></a>"
      ]
    },
    {
      "cell_type": "code",
      "metadata": {
        "id": "C0P6S4qGz3r2"
      },
      "source": [
        "import numpy as np\n",
        "import matplotlib.pyplot as plt\n",
        "import pandas as pd\n",
        "from sklearn.model_selection import GridSearchCV as GS\n",
        "from sklearn.svm import SVC\n",
        "from sklearn.ensemble import RandomForestClassifier as RFC\n",
        "from sklearn.metrics import plot_roc_curve as ROC\n",
        "from sklearn.metrics import plot_precision_recall_curve as PrecisionRecall"
      ],
      "execution_count": null,
      "outputs": []
    },
    {
      "cell_type": "code",
      "metadata": {
        "id": "qK1BzAhI3anJ"
      },
      "source": [
        "boston_dataset = np.genfromtxt('/content/bostonbin.csv',delimiter=',')"
      ],
      "execution_count": null,
      "outputs": []
    },
    {
      "cell_type": "markdown",
      "metadata": {
        "id": "siFmm8GKX7AW"
      },
      "source": [
        "# **Funcoes Uteis**"
      ]
    },
    {
      "cell_type": "code",
      "metadata": {
        "id": "20NQe8ocX6fE"
      },
      "source": [
        "def dividir_treino_teste(dados):\n",
        "  np.random.shuffle(dados)\n",
        "  X_treino = dados[:,:-1][:int(len(dados)*0.7)]\n",
        "  X_teste  = dados[:,:-1][int(len(dados)*0.7):]\n",
        "  y_treino = dados[:,[-1]][:int(len(dados)*0.7)]\n",
        "  y_teste  = dados[:,[-1]][int(len(dados)*0.7):]\n",
        "  return y_treino,y_teste,X_treino, X_teste\n",
        "\n",
        "#Normalizacao 0 ou 1\n",
        "class normalize_01():\n",
        "  def __init__(self, X):\n",
        "    self.min = np.min(X,axis=0)\n",
        "    self.max = np.max(X,axis=0)\n",
        "  def norma(self, X):\n",
        "    return (X - self.min)/(self.max - self.min)\n",
        "  def desnorm(self, X):\n",
        "    return X * (self.max - self.min) + self.min  \n",
        "\n",
        "#Avaliacao dos Classificadores\n",
        "def metricas(real,pred):\n",
        "  count = 0\n",
        "  verd_posi  = 0 #Verdadeiro Positivos\n",
        "  falso_neg  = 0 #Falsos Negativos\n",
        "  falso_posi = 0 #Falsos Positivos\n",
        "  for i in range(len(pred)):\n",
        "    if pred[i] == real[i]:\n",
        "      count += 1 \n",
        "    if pred[i] == 1 and pred[i] == real[i]:\n",
        "      verd_posi += 1 \n",
        "    if pred[i] == 0 and pred[i] != real[i]:\n",
        "      falso_neg += 1 \n",
        "    if pred[i] == 1 and pred[i] != real[i]:\n",
        "      falso_posi += 1 \n",
        "\n",
        "  acc  = count    / len(pred)\n",
        "  rev  = verd_posi / (verd_posi + falso_neg) \n",
        "  prec = verd_posi / (verd_posi + falso_posi)\n",
        "  F_1 = 2 * (rev * prec)/(rev + prec)\n",
        "\n",
        "  aux = np.round(np.array([acc, rev, prec, F_1]),3)\n",
        "  return aux #{'Acuracia':acc,'Revocacao': rev, 'Precisao': prec, 'F1_Score': F_1}"
      ],
      "execution_count": null,
      "outputs": []
    },
    {
      "cell_type": "markdown",
      "metadata": {
        "id": "TSw0UEnTA5yz"
      },
      "source": [
        "# **1º Questão**"
      ]
    },
    {
      "cell_type": "markdown",
      "metadata": {
        "id": "nXMFCxWqBAo9"
      },
      "source": [
        "## **SVM Classifier**"
      ]
    },
    {
      "cell_type": "code",
      "metadata": {
        "id": "voZrGtShBELW"
      },
      "source": [
        "def SVMc(X, y):\n",
        "  # Modelo base do SVM \n",
        "  Model = SVC(kernel= 'rbf', shrinking= False, probability= False, tol= 0.001\n",
        "              , class_weight= None, verbose= False, max_iter= -1\n",
        "              , decision_function_shape= 'ovr', break_ties= False)\n",
        "\n",
        "  # Vetor com os parametros de \"C\"\n",
        "  c1 = [ 2** -5 * 2 ** (n - 2) for n in range(2, 10, 2) ]\n",
        "  c2 = [ 2 * 2 ** n for n in range(1, 16, 2) ]\n",
        "  C = np.append(c1, c2)\n",
        "\n",
        "  # Vetor com os paramteros de \"gamma\"\n",
        "  g1 = [ 2** -15 * 2 ** (n - 2) for n in range(2, 20, 2) ]\n",
        "  g2 = [ 2 * 2 ** n for n in range(1, 4, 2) ]\n",
        "  gamma = np.append(g1, g2) \n",
        "  \n",
        "  parametros = {'C': C, 'gamma':gamma}\n",
        "\n",
        "  # Grid Search otimizado para o SVM\n",
        "  Grid = GS(Model, parametros, scoring= None, n_jobs= -1,\n",
        "            cv= 10, refit= True, verbose= False,\n",
        "            error_score= np.nan, return_train_score= True)\n",
        "\n",
        "  Grid.fit(X, y.ravel())\n",
        "\n",
        "  return Grid\n"
      ],
      "execution_count": null,
      "outputs": []
    },
    {
      "cell_type": "markdown",
      "metadata": {
        "id": "4uumC8fUf5ol"
      },
      "source": [
        "## **Random Forest**"
      ]
    },
    {
      "cell_type": "code",
      "metadata": {
        "id": "N-03wZlMf9gW"
      },
      "source": [
        " def RF(X, y):\n",
        "  # Modelo base do Random Forest \n",
        "  Model = RFC(criterion= 'gini', min_samples_split= 2, min_samples_leaf= 1\n",
        "              , min_weight_fraction_leaf= 0.0, max_features= 'auto'\n",
        "              , max_leaf_nodes= None, min_impurity_decrease= 0.0\n",
        "              , min_impurity_split= None, bootstrap= False\n",
        "              , n_jobs= -1, random_state= None, verbose= False, warm_start= False\n",
        "              , class_weight= None, ccp_alpha= 0.0) \n",
        "\n",
        "  # Vetor com os numeros de estimadores base\n",
        "  n_estimadores = [ n for n in range(10, 201, 10) ] \n",
        "\n",
        "  # Vetor com os paramteros maxima profundidade\n",
        "  profundidade = [ 2, 4, 6, 8, 'None' ]\n",
        "  \n",
        "  parametros = {'n_estimators': n_estimadores, 'max_depth': profundidade}\n",
        "\n",
        "  # Grid Search otimizado para o SVM\n",
        "  Grid = GS(Model, parametros, scoring= None, n_jobs= -1,\n",
        "            cv= 10, refit= True, verbose= False,\n",
        "            error_score= np.nan, return_train_score= True)\n",
        "\n",
        "  Grid.fit(X, y.ravel())\n",
        "\n",
        "  return Grid"
      ],
      "execution_count": null,
      "outputs": []
    },
    {
      "cell_type": "markdown",
      "metadata": {
        "id": "4kKy8RUKdGfY"
      },
      "source": [
        "## **Treinando Modelos**"
      ]
    },
    {
      "cell_type": "code",
      "metadata": {
        "id": "rdV8jCGJcufB"
      },
      "source": [
        "y_treino,y_teste,X_treino, X_teste = dividir_treino_teste(boston_dataset)\n",
        "\n",
        "norm_X = normalize_01(X_treino)\n",
        "X_treino = norm_X.norma(X_treino)\n",
        "X_teste = norm_X.norma(X_teste)\n",
        "\n",
        "Model_SVMc = SVMc(X_treino, y_treino) # Modelo otimizado SVM\n",
        "Model_RF = RF(X_treino, y_treino) # Modelo otimizado para o Random Forest\n",
        "\n",
        "y_pred_SVM = Model_SVMc.predict(X_teste) # Valores preditos para o SVM\n",
        "y_pred_RF = Model_RF.predict(X_teste)\n",
        "\n",
        "metr_SVM = metricas(y_teste, y_pred_SVM) # Metricas para o SVM \n",
        "metr_RF  = metricas(y_teste, y_pred_RF)"
      ],
      "execution_count": null,
      "outputs": []
    },
    {
      "cell_type": "markdown",
      "metadata": {
        "id": "HQffjUsxbKhJ"
      },
      "source": [
        "## **Comparação de Metricas**"
      ]
    },
    {
      "cell_type": "code",
      "metadata": {
        "colab": {
          "base_uri": "https://localhost:8080/"
        },
        "id": "E-iDxYBdcbw5",
        "outputId": "fd2ab415-8ecb-4764-a5b8-4ba5330fefcf"
      },
      "source": [
        "aux2 = [[Model_SVMc.best_params_,metr_SVM[0], metr_SVM[1], metr_SVM[2], metr_SVM[3]]\\\n",
        "        ,[Model_RF.best_params_, metr_RF[0], metr_RF[1], metr_RF[2], metr_RF[3]]]\n",
        "aux2 = np.array(aux2)\n",
        "\n",
        "Metricas = pd.DataFrame(aux2.T, index= ['Melhores Parametros','Acuracia','Revocacao','Precisao','F1_Score'],\n",
        "                        columns = ['SVM','RF'])\n",
        "print(Metricas.to_markdown())"
      ],
      "execution_count": null,
      "outputs": [
        {
          "output_type": "stream",
          "text": [
            "|                     | SVM                          | RF                                   |\n",
            "|:--------------------|:-----------------------------|:-------------------------------------|\n",
            "| Melhores Parametros | {'C': 256.0, 'gamma': 0.125} | {'max_depth': 8, 'n_estimators': 20} |\n",
            "| Acuracia            | 0.855                        | 0.862                                |\n",
            "| Revocacao           | 0.885                        | 0.908                                |\n",
            "| Precisao            | 0.865                        | 0.859                                |\n",
            "| F1_Score            | 0.875                        | 0.883                                |\n"
          ],
          "name": "stdout"
        }
      ]
    },
    {
      "cell_type": "markdown",
      "metadata": {
        "id": "_fqCWJSHfIdw"
      },
      "source": [
        "## **Curvas Roc e Precision Recall**"
      ]
    },
    {
      "cell_type": "code",
      "metadata": {
        "colab": {
          "base_uri": "https://localhost:8080/",
          "height": 683
        },
        "id": "XRXkCbANXgF_",
        "outputId": "264264a3-6f95-404c-c796-0c293b9fdf54"
      },
      "source": [
        "fig1, (ROC_SVM, PrecRec_SVM) = plt.subplots(1, 2, figsize=(15, 5));\n",
        "\n",
        "# Curva ROC e Precision-Recall para o SVM\n",
        "ROC(Model_SVMc, X_teste, y_teste, name= 'SVM', ax= ROC_SVM, drop_intermediate= False);\n",
        "PrecisionRecall(Model_SVMc, X_teste, y_teste, name= 'SVM', ax= PrecRec_SVM);\n",
        "\n",
        "ROC_SVM.set_title('SVM - Curva ROC')\n",
        "PrecRec_SVM.set_title('SVM - Precision Recall')\n",
        "\n",
        "fig2, (ROC_RF, PrecRec_RF) = plt.subplots(1, 2, figsize=(15, 5));\n",
        "\n",
        "# Curva ROC e Precision-Recall para o Random Forest\n",
        "ROC(Model_RF, X_teste, y_teste, name= 'RF', ax= ROC_RF, drop_intermediate= False);\n",
        "PrecisionRecall(Model_RF, X_teste, y_teste, name= 'RF', ax= PrecRec_RF);\n",
        "\n",
        "ROC_RF.set_title('Random Forest - Curva ROC')\n",
        "PrecRec_RF.set_title('Random Forest - Precision Recall')\n",
        "\n",
        "plt.plot();"
      ],
      "execution_count": null,
      "outputs": [
        {
          "output_type": "display_data",
          "data": {
            "image/png": "[encoded data removed]",
            "text/plain": [
              "<Figure size 1080x360 with 2 Axes>"
            ]
          },
          "metadata": {
            "tags": [],
            "needs_background": "light"
          }
        },
        {
          "output_type": "display_data",
          "data": {
            "image/png": "[encoded data removed]",
            "text/plain": [
              "<Figure size 1080x360 with 2 Axes>"
            ]
          },
          "metadata": {
            "tags": [],
            "needs_background": "light"
          }
        }
      ]
    }
  ]
}