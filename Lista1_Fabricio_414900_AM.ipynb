{
  "nbformat": 4,
  "nbformat_minor": 0,
  "metadata": {
    "colab": {
      "name": "Lista1_Fabricio_414900_AM.ipynb",
      "provenance": [],
      "collapsed_sections": [
        "mpL-CRKyJiKk"
      ],
      "mount_file_id": "1OT7_FIORkTMp5CjOzHtIf9BrRR50t3ra",
      "authorship_tag": "ABX9TyNAX2gYP+i0neHXzS1GDy4N",
      "include_colab_link": true
    },
    "kernelspec": {
      "display_name": "Python 3",
      "language": "python",
      "name": "python3"
    },
    "language_info": {
      "codemirror_mode": {
        "name": "ipython",
        "version": 3
      },
      "file_extension": ".py",
      "mimetype": "text/x-python",
      "name": "python",
      "nbconvert_exporter": "python",
      "pygments_lexer": "ipython3",
      "version": "3.7.3"
    }
  },
  "cells": [
    {
      "cell_type": "markdown",
      "metadata": {
        "id": "view-in-github",
        "colab_type": "text"
      },
      "source": [
        "<a href=\"https://colab.research.google.com/github/Fabriloko/Machine_Learn/blob/main/Lista1_Fabricio_414900_AM.ipynb\" target=\"_parent\"><img src=\"https://colab.research.google.com/assets/colab-badge.svg\" alt=\"Open In Colab\"/></a>"
      ]
    },
    {
      "cell_type": "code",
      "metadata": {
        "id": "vsf8COQCqfil"
      },
      "source": [
        "import numpy as np\n",
        "import matplotlib.pyplot as plt"
      ],
      "execution_count": null,
      "outputs": []
    },
    {
      "cell_type": "code",
      "metadata": {
        "id": "AFXcIITc2kR5"
      },
      "source": [
        "artificial_dataset = np.genfromtxt('/content/artificial1d.csv',delimiter=',') # 1º dataset\n",
        "boston_dataset = np.genfromtxt('/content/boston.csv',delimiter=',') # 2º dataset "
      ],
      "execution_count": null,
      "outputs": []
    },
    {
      "cell_type": "markdown",
      "metadata": {
        "id": "ZPbsHmghJAyK"
      },
      "source": [
        "**Autor:** Fabrício Araújo Barbosa, 414900\n",
        "\n"
      ]
    },
    {
      "cell_type": "markdown",
      "metadata": {
        "id": "7nQBI7f06RgE"
      },
      "source": [
        "# **Funções Uteis**"
      ]
    },
    {
      "cell_type": "code",
      "metadata": {
        "id": "u0sEsQGpbMvm"
      },
      "source": [
        "def MSE(y,y_pred): # Calcula o MSE\n",
        "  return np.mean((y - y_pred)**2)\n",
        "\n",
        "def RMSE(y,y_pred): # Calcula o MSE\n",
        "  return np.mean(np.sqrt((y - y_pred)**2))\n",
        "\n",
        "def plot_aprend(mse_it,itracoes=100): #plota a curva de aprendizado\n",
        "  #Plot dos dados\n",
        "  plt.plot(mse_it)\n",
        "  plt.xlabel(\"Iteracoes\")\n",
        "  plt.ylabel(\"MSE\")\n",
        "  plt.title(\"Erro X Iteracoes \")\n",
        "  plt.xlim(0,itracoes); # Limtando o grafico para 100 iteracoes\n",
        "\n",
        "class normalize_01():\n",
        "  def __init__(self, X):\n",
        "    self.min = np.min(X,axis=0)\n",
        "    self.max = np.max(X,axis=0)\n",
        "  def norma(self, X):\n",
        "    return (X - self.min)/(self.max - self.min)\n",
        "  def desnorm(self, X):\n",
        "    return X * (self.max - self.min) + self.min\n",
        "\n",
        "def polinomios(dados,grau):\n",
        "  dados_n = dados\n",
        "  if grau == 1:\n",
        "    return dados_n\n",
        "  else: \n",
        "    for i in range(2,grau):\n",
        "      dados_n = np.hstack((dados_n,dados**grau))\n",
        "    return dados_n\n"
      ],
      "execution_count": null,
      "outputs": []
    },
    {
      "cell_type": "markdown",
      "metadata": {
        "id": "3U1BoSVx2ZmH"
      },
      "source": [
        "# Lista 1 - Regressão linear, polinomial e regularização:"
      ]
    },
    {
      "cell_type": "markdown",
      "metadata": {
        "id": "mpL-CRKyJiKk"
      },
      "source": [
        "## **Questão 1:**"
      ]
    },
    {
      "cell_type": "markdown",
      "metadata": {
        "id": "aAn-pkwI2kke"
      },
      "source": [
        "**Item a)** MSE e o vetor de parâmetros *w* pelo método **OLS**."
      ]
    },
    {
      "cell_type": "code",
      "metadata": {
        "colab": {
          "base_uri": "https://localhost:8080/"
        },
        "id": "LIzSDoxF5OMN",
        "outputId": "38d16e14-61c1-4a28-a994-0372317722f6"
      },
      "source": [
        "X = np.c_[np.ones(artificial_dataset.shape[0]),artificial_dataset[:,0]]\n",
        "\n",
        "y = artificial_dataset[:,[1]] #Vetor de saidas desejadas\n",
        "\n",
        "w_OLS = np.linalg.inv(X.T @ X) @ X.T @ y #Vetor de parametros\n",
        "#w = np.linalg.solve(X.T @ X, X.T @ y) #Vetor de parametros - Outro método\n",
        "\n",
        "pred = X @ w_OLS #Vetor de saidas estimadas\n",
        "\n",
        "mse_OLS = MSE(y, pred) # Erro Quadratico Medio\n",
        "\n",
        "print(\"Esses são os resultados:\")\n",
        "print(\"Vetor de Parametros:\")\n",
        "print(w_OLS)\n",
        "print(\"MSE - Erro Quadratico Medio é de\", mse_OLS,'\\n')\n",
        "\n",
        "#Plot dos dados\n",
        "X_test = np.c_[np.ones(100), np.linspace(X[:,1].min(), X[:,1].max(),100)]\n",
        "\n",
        "plt.scatter(X[:,1],y)\n",
        "plt.plot(X_test[:,1], X_test @ w_OLS, color = 'red')\n",
        "plt.xlabel(\"Eixo X\")\n",
        "plt.ylabel(\"Eixo y\")\n",
        "plt.title(\"Dados e MRLS\");\n",
        "#print(w_OLS@(1,200))"
      ],
      "execution_count": null,
      "outputs": [
        {
          "output_type": "stream",
          "text": [
            "Esses são os resultados:\n",
            "Vetor de Parametros:\n",
            "[[0.06761792]\n",
            " [1.57486517]]\n",
            "MSE - Erro Quadratico Medio é de 0.21340090132936987 \n",
            "\n"
          ],
          "name": "stdout"
        },
        {
          "output_type": "display_data",
          "data": {
            "image/png": "[encoded data removed]",
            "text/plain": [
              "<Figure size 432x288 with 1 Axes>"
            ]
          },
          "metadata": {
            "tags": [],
            "needs_background": "light"
          }
        }
      ]
    },
    {
      "cell_type": "markdown",
      "metadata": {
        "id": "uUMkYe64_qFO"
      },
      "source": [
        "**Item b)** MSE e o vetor de parâmetros *w* pelo método **GD**."
      ]
    },
    {
      "cell_type": "code",
      "metadata": {
        "id": "3uYEVnir_u9g",
        "colab": {
          "base_uri": "https://localhost:8080/"
        },
        "outputId": "ceb2db88-133d-40a0-adc3-e5c863c1df11"
      },
      "source": [
        "X = np.c_[np.ones(artificial_dataset.shape[0]),artificial_dataset[:,0]]\n",
        "y = artificial_dataset[:,[1]] #Vetor de saidas desejadas\n",
        "\n",
        "def GD(X, y):\n",
        "  alpha = 0.1 # Valor de Alpha\n",
        "  iteracoes = 100 # Numero maximo de iteracoes\n",
        "\n",
        "  w_GD = np.zeros((X.shape[1],1)) # Vetor de parametros iniciais\n",
        "\n",
        "  mse_it = [] # Historico do MSE\n",
        "\n",
        "  #Laco de atualizacao\n",
        "  for i in range(iteracoes):\n",
        "    pred = X @ w_GD #Vetor de saidas estimadas\n",
        "    e = y - pred # Atualizacao do Erro\n",
        "    w_GD = w_GD + alpha * X.T @ e / X.shape[0] # Atualizacao do vetor de parametros\n",
        "    mse_it.append(MSE(y, pred)) # Atualizacao do historico do MSE\n",
        "  return w_GD, mse_it\n",
        "\n",
        "w_GD, mse_it = GD(X, y) \n",
        "mse_GD = MSE(y, pred) # Erro Quadratico Medio\n",
        "\n",
        "print(\"Esses são os resultados:\")\n",
        "print(\"Vetor de Parametros:\")\n",
        "print(w_GD)\n",
        "print(\"MSE - Erro Quadratico Medio é de\", mse_GD,'\\n')\n",
        "plot_aprend(mse_it) #Plot dos dados"
      ],
      "execution_count": null,
      "outputs": [
        {
          "output_type": "stream",
          "text": [
            "Esses são os resultados:\n",
            "Vetor de Parametros:\n",
            "[[0.06761613]\n",
            " [1.53303263]]\n",
            "MSE - Erro Quadratico Medio é de 0.21340090132936987 \n",
            "\n"
          ],
          "name": "stdout"
        },
        {
          "output_type": "display_data",
          "data": {
            "image/png": "[encoded data removed]",
            "text/plain": [
              "<Figure size 432x288 with 1 Axes>"
            ]
          },
          "metadata": {
            "tags": [],
            "needs_background": "light"
          }
        }
      ]
    },
    {
      "cell_type": "markdown",
      "metadata": {
        "id": "D4QzgaNHN1s8"
      },
      "source": [
        "**Item C)** MSE e o vetor de parâmetros *w* pelo método **SGD**."
      ]
    },
    {
      "cell_type": "code",
      "metadata": {
        "id": "BUrF2aXCN25j",
        "colab": {
          "base_uri": "https://localhost:8080/"
        },
        "outputId": "e1304405-856e-4a56-ff0f-cc69459b2da7"
      },
      "source": [
        "X = np.c_[np.ones(artificial_dataset.shape[0]),artificial_dataset[:,:-1]]\n",
        "y = artificial_dataset[:,[1]] #Vetor de saidas desejadas\n",
        "\n",
        "def SGD(X, y):\n",
        "  alpha = 0.1 # Valor de Alpha\n",
        "  iteracoes = 100 # Numero maximo de iteracoes\n",
        "\n",
        "  w_SGD = np.zeros((X.shape[1],1)) # Vetor de parametros iniciais\n",
        "  \n",
        "  mse_it = [] # Historico do MSE\n",
        "\n",
        "  #Laco de atualizacao\n",
        "  for i in range(iteracoes):\n",
        "    for i in np.random.permutation(X.shape[0]): # Permutacao aleatoria das entradas\n",
        "      y_pred = w_SGD.T @ X[[i]].T #Saida estimada para y_i\n",
        "      error = y[i] - y_pred # Atualizacao do Erro para y_i\n",
        "      w_SGD = w_SGD + alpha * error * X[[i]].T # Atualizacao do vetor de parametros\n",
        "      mse_it.append(MSE(y, X @ w_SGD)) # Atualizacao do historico do MSE\n",
        "  return w_SGD, mse_it\n",
        "\n",
        "w_SGD, mse_it = SGD(X, y)\n",
        "#print(w_SGD)\n",
        "pred = X @ w_SGD\n",
        "mse_SGD = MSE(y, pred) # Erro Quadratico Medio\n",
        "\n",
        "print(\"Esses são os resultados:\")\n",
        "print(\"Vetor de Parametros:\")\n",
        "print(w_SGD)\n",
        "print(\"MSE - Erro Quadratico Medio é de\", mse_SGD,'\\n')\n",
        "plot_aprend(mse_it) #Plot dos dados"
      ],
      "execution_count": null,
      "outputs": [
        {
          "output_type": "stream",
          "text": [
            "Esses são os resultados:\n",
            "Vetor de Parametros:\n",
            "[[-0.08626739]\n",
            " [ 1.56240459]]\n",
            "MSE - Erro Quadratico Medio é de 0.23713691464110206 \n",
            "\n"
          ],
          "name": "stdout"
        },
        {
          "output_type": "display_data",
          "data": {
            "image/png": "[encoded data removed]",
            "text/plain": [
              "<Figure size 432x288 with 1 Axes>"
            ]
          },
          "metadata": {
            "tags": [],
            "needs_background": "light"
          }
        }
      ]
    },
    {
      "cell_type": "markdown",
      "metadata": {
        "id": "ht1RH889Xx3F"
      },
      "source": [
        "**Comparações:**"
      ]
    },
    {
      "cell_type": "code",
      "metadata": {
        "id": "NWx1Ft2sXxUE",
        "colab": {
          "base_uri": "https://localhost:8080/"
        },
        "outputId": "c6d95b0d-3650-4c10-b151-ab2593a9b192"
      },
      "source": [
        "print(\"O Erro Quadratico Medio do GD :\", mse_GD) # MSE do GD\n",
        "print(\"O Erro Quadratico Medio do SGD :\", mse_SGD) # MSE do SGD\n",
        "print(\"O Erro Quadratico Medio do OLS :\", mse_OLS , \"\\n \\n\") # MSE do OLS\n",
        "\n",
        "print(\"O Vetor de Parametros do GD \\n:\", w_GD) # Vetor de prametros GD\n",
        "print(\"O Vetor de Parametros do SGD \\n:\", w_SGD) # Vetor de prametros SGD\n",
        "print(\"O Vetor de Parametros do OLS \\n:\", w_OLS) # Vetor de prametros OLS\n"
      ],
      "execution_count": null,
      "outputs": [
        {
          "output_type": "stream",
          "text": [
            "O Erro Quadratico Medio do GD : 0.21340090132936987\n",
            "O Erro Quadratico Medio do SGD : 0.23713691464110206\n",
            "O Erro Quadratico Medio do OLS : 0.21340090132936987 \n",
            " \n",
            "\n",
            "O Vetor de Parametros do GD \n",
            ": [[0.06761613]\n",
            " [1.53303263]]\n",
            "O Vetor de Parametros do SGD \n",
            ": [[-0.08626739]\n",
            " [ 1.56240459]]\n",
            "O Vetor de Parametros do OLS \n",
            ": [[0.06761792]\n",
            " [1.57486517]]\n"
          ],
          "name": "stdout"
        }
      ]
    },
    {
      "cell_type": "markdown",
      "metadata": {
        "id": "ao7gCAN9ZdVX"
      },
      "source": [
        "## Questão 2:"
      ]
    },
    {
      "cell_type": "markdown",
      "metadata": {
        "id": "Fa1yyJOOZqEb"
      },
      "source": [
        "**Item a)** Aleatoriamente, dividir o conjunto de dados em **treino (80%)** e **teste (20%)**."
      ]
    },
    {
      "cell_type": "code",
      "metadata": {
        "id": "sTG1fyW9ZlDx"
      },
      "source": [
        "boston = boston_dataset[:,:] #Atriuindo o X_1 e Bosto_dataset\n",
        "X = np.c_[np.ones(boston_dataset.shape[0]),boston[:,:-1]]\n",
        "y = boston[:,[-1]]\n",
        "\n",
        "def dividir_treino_teste(dados):\n",
        "  np.random.shuffle(dados)\n",
        "  X_treino = dados[:,:-1][:int(len(dados)*0.8)]\n",
        "  X_teste  = dados[:,:-1][int(len(dados)*0.8):]\n",
        "  y_treino = dados[:,[-1]][:int(len(dados)*0.8)]\n",
        "  y_teste  = dados[:,[-1]][int(len(dados)*0.8):]\n",
        "  return y_treino,y_teste,X_treino, X_teste\n",
        "\n",
        "#X_treino, X_teste, y_treino, y_teste = dividir_treino_teste(boston)\n"
      ],
      "execution_count": null,
      "outputs": []
    },
    {
      "cell_type": "markdown",
      "metadata": {
        "id": "PxTFGYA0WRwp"
      },
      "source": [
        "**Item b)** Treine 11 modelos de **regressão polinomial**, com ordens de 1 a 11.\n"
      ]
    },
    {
      "cell_type": "code",
      "metadata": {
        "id": "H38xv3KEWzpX",
        "colab": {
          "base_uri": "https://localhost:8080/"
        },
        "outputId": "52cd9146-0e3d-4dd9-fb01-9f4adc5a3260"
      },
      "source": [
        "X = boston[:,:-1]\n",
        "y = boston[:,[-1]]\n",
        "\n",
        "w = np.zeros((X.shape[1],1))\n",
        "w_treino = []\n",
        "rmse_poli_treino = []\n",
        "rmse_poli_teste = []\n",
        "for i in range(1,12):\n",
        "  dados_poli = polinomios(boston,i)\n",
        "  y_treino_poli, y_teste_poli, X_treino_poli, X_teste_poli = dividir_treino_teste(dados_poli) # Definindo a matriz X de treino e teste polinomial\n",
        "\n",
        "  I = np.eye(X_treino_poli.shape[1]) # Matriz Identidade\n",
        "\n",
        "  # Normalização das Variáveis\n",
        "  normalize_X = normalize_01(X_treino_poli)\n",
        "  normalize_y = normalize_01(y_treino_poli)\n",
        "\n",
        "  #norm_X_treino_poli = np.c_[np.ones(X_treino_poli.shape[0]),normalize_X.norma(X_treino_poli)] # Normalizando X\n",
        "  norm_X_treino_poli = normalize_X.norma(X_treino_poli)\n",
        "  y_treino_poli = normalize_y.norma(y_treino_poli) # Normalizando y\n",
        "  \n",
        "  # Treinado W via OLS\n",
        "  w = (np.linalg.pinv(norm_X_treino_poli.T @ norm_X_treino_poli) + (I * 10 ** -10)) @ norm_X_treino_poli.T @ y_treino_poli\n",
        "  #w = np.linalg.solve(norm_X_treino_poli.T @ norm_X_treino_poli + (I * 10 ** -10), norm_X_treino_poli.T @ y_treino_poli)\n",
        "\n",
        "  # Desnormalizando as Variáveis\n",
        "  y_treino_poli = normalize_y.desnorm(y_treino_poli)\n",
        "  #X_treino_poli = np.c_[np.ones(X_treino_poli.shape[0]),X_treino_poli]\n",
        "  #X_teste_poli = np.c_[np.ones(X_teste_poli.shape[0]),X_teste_poli]\n",
        "  \n",
        "  # Predizendo o vetor y\n",
        "  y_pred_treino = X_treino_poli @ w;\n",
        "  y_pred_teste  = X_teste_poli  @ w;\n",
        "  w_treino.append(w)\n",
        "\n",
        "  #Calculando o MSE do Modelo \n",
        "  rmse_poli_treino.append(RMSE(y_treino_poli ,y_pred_treino)) \n",
        "  rmse_poli_teste.append(RMSE(y_teste_poli ,y_pred_teste)) \n",
        "\n",
        "print(\"RMSE_Treino:\", rmse_poli_treino)\n",
        "print(\"RMSE_Teste:\" , rmse_poli_teste )\n"
      ],
      "execution_count": null,
      "outputs": [
        {
          "output_type": "stream",
          "text": [
            "RMSE_Treino: [20.420542096681228, 22.95849884472649, 24154082.895704977, 217.1481539489372, 110056.05470029733, 52633754.940124534, 20264675996.258884, 16828661737894.85, 1.0080616857983738e+16, 1.1354107706939181e+19, 4.5870617403069584e+21]\n",
            "RMSE_Teste: [24.934470547206658, 25.339580929560885, 26882208.431650914, 220.8860941229281, 115190.68716481824, 59178903.14935496, 24769343395.126312, 16312700965811.82, 1.144239013203095e+16, 9.75840379994868e+18, 4.4933763670745206e+21]\n"
          ],
          "name": "stdout"
        }
      ]
    },
    {
      "cell_type": "markdown",
      "metadata": {
        "id": "awdClgW5W2rp"
      },
      "source": [
        "\n",
        "**Item c)** Reporte o RMSE (raiz quadrada do erro quadrático médio) no treinamento e no teste para cada modelo. Faça um gráfico para o treino e um gráfico para o teste.\n"
      ]
    },
    {
      "cell_type": "code",
      "metadata": {
        "id": "OHd3Vv4tXEwG",
        "colab": {
          "base_uri": "https://localhost:8080/",
          "height": 312
        },
        "outputId": "db984e7a-5094-48ed-9146-3d67fd215fac"
      },
      "source": [
        "rmse_treino = rmse_poli_treino\n",
        "rmse_teste = rmse_poli_teste\n",
        "print(\"Os resultados são:\")\n",
        "\n",
        "plt.plot(rmse_treino,color='blue');\n",
        "plt.plot(rmse_teste,color='red');\n",
        "plt.xlabel(\"Iteracoes\");\n",
        "plt.ylabel(\"RMSE\");\n",
        "plt.title(\"Treino(Azul) X Teste(Vermelho)\");\n"
      ],
      "execution_count": null,
      "outputs": [
        {
          "output_type": "stream",
          "text": [
            "Os resultados são:\n"
          ],
          "name": "stdout"
        },
        {
          "output_type": "display_data",
          "data": {
            "image/png": "[encoded data removed]",
            "text/plain": [
              "<Figure size 432x288 with 1 Axes>"
            ]
          },
          "metadata": {
            "tags": [],
            "needs_background": "light"
          }
        }
      ]
    },
    {
      "cell_type": "markdown",
      "metadata": {
        "id": "QOLE9lZ_XFCS"
      },
      "source": [
        "**Item d)** Repita os 2 itens anteriores incluindo um termo de regularização L2\n",
        "com fator λ = 0.01."
      ]
    },
    {
      "cell_type": "code",
      "metadata": {
        "id": "I7brCC4gXMtu"
      },
      "source": [
        "X = boston[:,:-1]\n",
        "y = boston[:,[-1]]\n",
        "\n",
        "lamb = 0.01\n",
        "w = np.zeros((X.shape[1],1))\n",
        "w_treino = []\n",
        "mse_poli_treino = []\n",
        "mse_poli_teste = []\n",
        "I = np.eye(X.shape[1])\n",
        "for i in range(1,12):\n",
        "  dados_poli = polinomios(boston,i)\n",
        "  y_treino_poli, y_teste_poli, X_treino_poli, X_teste_poli = dividir_treino_teste(dados_poli) # Definindo a matriz X de treino e teste polinomial\n",
        "\n",
        "  # Normalização das Variáveis\n",
        "  normalize_X = normalize_01(X_treino_poli)\n",
        "  normalize_y = normalize_01(y_treino_poli)\n",
        "  #norm_X_treino_poli = np.c_[np.ones(X_treino_poli.shape[0]),normalize_X.norma(X_treino_poli)] # Normalizando X\n",
        "  norm_X_treino_poli = normalize_X.norma(X_treino_poli)\n",
        "  y_treino_poli = normalize_y.norma(y_treino_poli) # Normalizando y\n",
        "  \n",
        "  # Treinado W via OLS\n",
        "  w = np.linalg.solve(norm_X_treino_poli.T @ norm_X_treino_poli + lamb * I, norm_X_treino_poli.T @ y_treino_poli)\n",
        "\n",
        "  # Desnormalizando as Variáveis\n",
        "  y_treino_poli = normalize_y.desnorm(y_treino_poli)\n",
        "  #X_treino_poli = np.c_[np.ones(X_treino_poli.shape[0]),X_treino_poli]\n",
        "  #X_teste_poli = np.c_[np.ones(X_teste_poli.shape[0]),X_teste_poli]\n",
        "  \n",
        "  # Predizendo o vetor y\n",
        "  y_pred_treino = X_treino_poli @ w;\n",
        "  y_pred_teste = X_teste_poli @ w;\n",
        "  w_treino.append(w)\n",
        "\n",
        "  #Calculando o MSE do Modelo \n",
        "  mse_poli_treino.append(MSE(y_treino_poli ,y_pred_treino)) \n",
        "  mse_poli_teste.append(MSE(y_teste_poli ,y_pred_teste)) \n",
        "\n",
        "print(\"RMSE_Treino:\",np.sqrt(mse_poli_treino))\n",
        "print(\"RMSE_Teste:\" ,np.sqrt(mse_poli_teste ))\n",
        "\n",
        "rmse_treino = np.sqrt(mse_poli_treino)\n",
        "rmse_teste = np.sqrt(mse_poli_teste)\n",
        "print(\"\\n\",\"Os resultados são:\")\n",
        "\n",
        "plt.plot(rmse_treino,color='blue');\n",
        "plt.plot(rmse_teste,color='red');\n",
        "plt.xlabel(\"Iteracoes\");\n",
        "plt.ylabel(\"RMSE\");\n",
        "plt.title(\"Treino(Azul) X Teste(Vermelho) \");"
      ],
      "execution_count": null,
      "outputs": []
    }
  ]
}