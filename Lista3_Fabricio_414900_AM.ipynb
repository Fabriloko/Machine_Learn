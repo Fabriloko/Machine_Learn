{
  "nbformat": 4,
  "nbformat_minor": 0,
  "metadata": {
    "colab": {
      "name": "Lista3_Fabricio_414900_AM.ipynb",
      "provenance": [],
      "collapsed_sections": [
        "GweNZLLyMjXu",
        "OEqWVOzeMxsf"
      ],
      "authorship_tag": "ABX9TyOiT5anXKKKQZfign87AOEW",
      "include_colab_link": true
    },
    "kernelspec": {
      "name": "python3",
      "display_name": "Python 3"
    },
    "language_info": {
      "name": "python"
    }
  },
  "cells": [
    {
      "cell_type": "markdown",
      "metadata": {
        "id": "view-in-github",
        "colab_type": "text"
      },
      "source": [
        "<a href=\"https://colab.research.google.com/github/Fabriloko/Machine_Learn/blob/main/Lista3_Fabricio_414900_AM.ipynb\" target=\"_parent\"><img src=\"https://colab.research.google.com/assets/colab-badge.svg\" alt=\"Open In Colab\"/></a>"
      ]
    },
    {
      "cell_type": "code",
      "metadata": {
        "id": "NW5V_m1KMJ4a"
      },
      "source": [
        "import numpy as np\n",
        "import matplotlib.pyplot as plt\n",
        "from sklearn.neural_network import MLPClassifier as mlp_c\n",
        "from sklearn.neural_network import MLPRegressor as mlp_r\n",
        "from sklearn.model_selection import RandomizedSearchCV as RandomSearch\n",
        "import pandas as pd"
      ],
      "execution_count": null,
      "outputs": []
    },
    {
      "cell_type": "code",
      "metadata": {
        "id": "tm2NfqGSLtFj"
      },
      "source": [
        "concrete_dataset = np.genfromtxt('/content/concrete.csv',delimiter=',')\n",
        "vowel_dataset = np.genfromtxt('/content/vowel.csv',delimiter=',')"
      ],
      "execution_count": null,
      "outputs": []
    },
    {
      "cell_type": "markdown",
      "metadata": {
        "id": "PR4lRDPHMbIg"
      },
      "source": [
        "# **Funções Uteis**"
      ]
    },
    {
      "cell_type": "code",
      "metadata": {
        "id": "JkyaH2-pMdr3"
      },
      "source": [
        "def MSE(y,y_pred): # Calcula o MSE\n",
        "  return np.mean((y - y_pred)**2)\n",
        "\n",
        "def RMSE(y,y_pred): # Calcula o MSE\n",
        "  return np.sqrt(np.mean((y - y_pred)**2))\n",
        "\n",
        "def MAE(y,y_pred):\n",
        "  return np.mean(np.abs(y - y_pred))\n",
        "\n",
        "def MRE(y, y_pred):\n",
        "  return np.mean((np.abs(y - y_pred) / y))\n",
        "\n",
        "def dividir_treino_teste(dados):\n",
        "  np.random.shuffle(dados)\n",
        "  X_treino = dados[:,:-1][:int(len(dados)*0.8)]\n",
        "  X_teste  = dados[:,:-1][int(len(dados)*0.8):]\n",
        "  y_treino = dados[:,[-1]][:int(len(dados)*0.8)]\n",
        "  y_teste  = dados[:,[-1]][int(len(dados)*0.8):]\n",
        "  return y_treino,y_teste,X_treino, X_teste\n",
        "\n",
        "def make_meshgrid(x, y, steps=300):\n",
        "    x_min, x_max = x.min() - 1, x.max() + 1\n",
        "    y_min, y_max = y.min() - 1, y.max() + 1\n",
        "    xx, yy = np.meshgrid(np.linspace(x_min, x_max, steps), np.linspace(y_min, y_max, steps))\n",
        "    return xx, yy\n",
        "\n",
        "def plot_contours(ax, clf, xx, yy, colors=['red', 'blue']):\n",
        "    labels = clf(np.c_[ xx.ravel(), yy.ravel() ]).reshape(xx.shape)\n",
        "    out = ax.contourf(xx, yy, labels, levels=len(np.unique(labels))-1, colors=colors, alpha=0.5)    \n",
        "    return out\n",
        "\n",
        "class normalize_01(): #Normalizacao 0 ou 1\n",
        "  def __init__(self, X):\n",
        "    self.min = np.min(X,axis=0)\n",
        "    self.max = np.max(X,axis=0)\n",
        "  def norma(self, X):\n",
        "    return (X - self.min)/(self.max - self.min)\n",
        "  def desnorm(self, X):\n",
        "    return X * (self.max - self.min) + self.min\n",
        "\n",
        "def sig(z): #Funcao Sigmoide\n",
        "  return 1/(1 + np.exp(-z))\n",
        "\n",
        "def TanH(z):\n",
        "  return (np.exp(2 * z) - 1) / (np.exp(2 * z) + 1)\n",
        "\n",
        "def ReLu(z):\n",
        "  return np.maximum(0, z)\n",
        "\n",
        "def Gaussian(x, media, cov):\n",
        "    dim = np.shape(cov)[0]\n",
        "    # Medidas do Determinante da Matriz de Covariancia\n",
        "    covdet = np.linalg.det(cov + np.eye(dim) * 0.000001)\n",
        "    covinv = np.linalg.inv(cov + np.eye(dim) * 0.000001)\n",
        "    xdiff = (x - media).reshape((1, dim))\n",
        "\n",
        "    # Funcao Densidade de Probabilidade\n",
        "    prob = 0.5 * (np.log( 2 * np.pi * np.abs(covdet)) + xdiff @ covinv @ xdiff.T)\n",
        "    return prob\n",
        "\n",
        "#Avaliacao dos Classificadores\n",
        "def metricas(real,pred):\n",
        "  count = 0\n",
        "  verd_posi  = 0 #Verdadeiro Positivos\n",
        "  falso_neg  = 0 #Falsos Negativos\n",
        "  falso_posi = 0 #Falsos Positivos\n",
        "  for i in range(len(pred)):\n",
        "    if pred[i] == real[i]:\n",
        "      count += 1 \n",
        "    if pred[i] == 1 and pred[i] == real[i]:\n",
        "      verd_posi += 1 \n",
        "    if pred[i] == 0 and pred[i] != real[i]:\n",
        "      falso_neg += 1 \n",
        "    if pred[i] == 1 and pred[i] != real[i]:\n",
        "      falso_posi += 1 \n",
        "\n",
        "  acc  = count    / len(pred)\n",
        "  rev  = verd_posi / (verd_posi + falso_neg) \n",
        "  prec = verd_posi / (verd_posi + falso_posi)\n",
        "  F_1 = 2 * (rev * prec)/(rev + prec)\n",
        "\n",
        "  aux = np.array([acc, rev, prec, F_1])\n",
        "  return {\"Acuracia\":acc,'Revocacao': rev, 'Precisao': prec, 'F1_Score': F_1}"
      ],
      "execution_count": null,
      "outputs": []
    },
    {
      "cell_type": "markdown",
      "metadata": {
        "id": "GweNZLLyMjXu"
      },
      "source": [
        "# **Questão 1:**"
      ]
    },
    {
      "cell_type": "code",
      "metadata": {
        "colab": {
          "base_uri": "https://localhost:8080/",
          "height": 1000
        },
        "id": "21QnSdZMDdEO",
        "outputId": "a0be2ca7-94a1-4dcd-af47-43e112248eb6"
      },
      "source": [
        "def REG_MLP(dados,iteracoes=100):\n",
        "  y_treino, y_teste ,X_treino, X_teste = dividir_treino_teste(dados)\n",
        "\n",
        "  X_normalize = normalize_01(X_treino)\n",
        "  X_treino = X_normalize.norma(X_treino)\n",
        "  X_treino = np.c_[(np.ones(X_treino.shape[0]), X_treino)]\n",
        "  X_teste = np.c_[(np.ones(X_teste.shape[0]), X_teste)]\n",
        "\n",
        "  parametros = {'hidden_layer_sizes': (25, 50, 75, 100),\n",
        "                'learning_rate': ('constant','adaptive'), \n",
        "                'batch_size':(70, 90, 100, 130, 'auto'),\n",
        "                'activation':('tanh','relu')}\n",
        "\n",
        "  Modelo = mlp_r(solver= 'sgd', max_iter= iteracoes, random_state= 0, verbose= False, learning_rate_init= 0.01, \n",
        "                 early_stopping= False, momentum= 0.9, nesterovs_momentum= False, shuffle=False)\n",
        "\n",
        "  #Random Search\n",
        "  Model = RandomSearch(Modelo, parametros, refit= True, cv= 5, verbose= False)\n",
        "\n",
        "  #Resultado do Random Search\n",
        "  Model.fit(X_treino, y_treino.ravel())\n",
        "  mark = pd.DataFrame(Model.cv_results_)\n",
        "  print(f\"Resultados Random Search: \\n{mark[['params','mean_test_score','std_test_score','rank_test_score']].to_markdown()}\")\n",
        "\n",
        "  #Treinando o modelo com os melhores parametros do Random Search\n",
        "  Modelo.set_params(**Model.best_params_)\n",
        "\n",
        "  #Adiquirindo as méticas\n",
        "  Modelo.fit(X_treino, y_treino.ravel())\n",
        "  Treino_Perda = Modelo.loss_curve_\n",
        "  Modelo.fit(X_teste, y_teste.ravel())\n",
        "  Teste_Perda = Modelo.loss_curve_\n",
        "  \n",
        "  return Treino_Perda, Teste_Perda\n",
        "\n",
        "Treino_Perda, Teste_Perda = REG_MLP(concrete_dataset)\n",
        "\n",
        "plt.plot(range(100), Treino_Perda, color= 'orange', label= 'RMSE_Treino')\n",
        "plt.plot(range(100), Teste_Perda, color= 'b', label= 'RMSE_Teste')\n",
        "plt.title(\"RMSE: Treino X Teste\")\n",
        "plt.legend()\n",
        "plt.close()\n",
        "\n",
        "plt.plot(range(100), Treino_Perda, color= 'orange', label= 'MAE_Treino')\n",
        "plt.plot(range(100), Teste_Perda, color= 'b', label= 'MAE_Teste')\n",
        "plt.title(\"MAE: Treino X Teste\")\n",
        "plt.legend()\n",
        "plt.close()\n",
        "\n",
        "plt.plot(range(100), Treino_Perda, color= 'orange', label= 'MRE_Treino')\n",
        "plt.plot(range(100), Teste_Perda, color= 'b', label= 'MRE_Teste')\n",
        "plt.title(\"MRE: Treino X Teste\")\n",
        "plt.legend()\n",
        "plt.close()"
      ],
      "execution_count": null,
      "outputs": [
        {
          "output_type": "stream",
          "text": [
            "/usr/local/lib/python3.7/dist-packages/sklearn/neural_network/_multilayer_perceptron.py:571: ConvergenceWarning: Stochastic Optimizer: Maximum iterations (100) reached and the optimization hasn't converged yet.\n",
            "  % self.max_iter, ConvergenceWarning)\n",
            "/usr/local/lib/python3.7/dist-packages/sklearn/neural_network/_multilayer_perceptron.py:571: ConvergenceWarning: Stochastic Optimizer: Maximum iterations (100) reached and the optimization hasn't converged yet.\n",
            "  % self.max_iter, ConvergenceWarning)\n",
            "/usr/local/lib/python3.7/dist-packages/sklearn/neural_network/_multilayer_perceptron.py:571: ConvergenceWarning: Stochastic Optimizer: Maximum iterations (100) reached and the optimization hasn't converged yet.\n",
            "  % self.max_iter, ConvergenceWarning)\n",
            "/usr/local/lib/python3.7/dist-packages/sklearn/neural_network/_multilayer_perceptron.py:571: ConvergenceWarning: Stochastic Optimizer: Maximum iterations (100) reached and the optimization hasn't converged yet.\n",
            "  % self.max_iter, ConvergenceWarning)\n",
            "/usr/local/lib/python3.7/dist-packages/sklearn/neural_network/_multilayer_perceptron.py:571: ConvergenceWarning: Stochastic Optimizer: Maximum iterations (100) reached and the optimization hasn't converged yet.\n",
            "  % self.max_iter, ConvergenceWarning)\n",
            "/usr/local/lib/python3.7/dist-packages/sklearn/neural_network/_multilayer_perceptron.py:571: ConvergenceWarning: Stochastic Optimizer: Maximum iterations (100) reached and the optimization hasn't converged yet.\n",
            "  % self.max_iter, ConvergenceWarning)\n",
            "/usr/local/lib/python3.7/dist-packages/sklearn/neural_network/_multilayer_perceptron.py:571: ConvergenceWarning: Stochastic Optimizer: Maximum iterations (100) reached and the optimization hasn't converged yet.\n",
            "  % self.max_iter, ConvergenceWarning)\n",
            "/usr/local/lib/python3.7/dist-packages/sklearn/neural_network/_multilayer_perceptron.py:571: ConvergenceWarning: Stochastic Optimizer: Maximum iterations (100) reached and the optimization hasn't converged yet.\n",
            "  % self.max_iter, ConvergenceWarning)\n",
            "/usr/local/lib/python3.7/dist-packages/sklearn/neural_network/_multilayer_perceptron.py:571: ConvergenceWarning: Stochastic Optimizer: Maximum iterations (100) reached and the optimization hasn't converged yet.\n",
            "  % self.max_iter, ConvergenceWarning)\n",
            "/usr/local/lib/python3.7/dist-packages/sklearn/neural_network/_multilayer_perceptron.py:571: ConvergenceWarning: Stochastic Optimizer: Maximum iterations (100) reached and the optimization hasn't converged yet.\n",
            "  % self.max_iter, ConvergenceWarning)\n",
            "/usr/local/lib/python3.7/dist-packages/sklearn/neural_network/_multilayer_perceptron.py:571: ConvergenceWarning: Stochastic Optimizer: Maximum iterations (100) reached and the optimization hasn't converged yet.\n",
            "  % self.max_iter, ConvergenceWarning)\n",
            "/usr/local/lib/python3.7/dist-packages/sklearn/neural_network/_multilayer_perceptron.py:571: ConvergenceWarning: Stochastic Optimizer: Maximum iterations (100) reached and the optimization hasn't converged yet.\n",
            "  % self.max_iter, ConvergenceWarning)\n",
            "/usr/local/lib/python3.7/dist-packages/sklearn/neural_network/_multilayer_perceptron.py:571: ConvergenceWarning: Stochastic Optimizer: Maximum iterations (100) reached and the optimization hasn't converged yet.\n",
            "  % self.max_iter, ConvergenceWarning)\n",
            "/usr/local/lib/python3.7/dist-packages/sklearn/neural_network/_multilayer_perceptron.py:571: ConvergenceWarning: Stochastic Optimizer: Maximum iterations (100) reached and the optimization hasn't converged yet.\n",
            "  % self.max_iter, ConvergenceWarning)\n",
            "/usr/local/lib/python3.7/dist-packages/sklearn/neural_network/_multilayer_perceptron.py:571: ConvergenceWarning: Stochastic Optimizer: Maximum iterations (100) reached and the optimization hasn't converged yet.\n",
            "  % self.max_iter, ConvergenceWarning)\n",
            "/usr/local/lib/python3.7/dist-packages/sklearn/neural_network/_multilayer_perceptron.py:571: ConvergenceWarning: Stochastic Optimizer: Maximum iterations (100) reached and the optimization hasn't converged yet.\n",
            "  % self.max_iter, ConvergenceWarning)\n",
            "/usr/local/lib/python3.7/dist-packages/sklearn/neural_network/_multilayer_perceptron.py:571: ConvergenceWarning: Stochastic Optimizer: Maximum iterations (100) reached and the optimization hasn't converged yet.\n",
            "  % self.max_iter, ConvergenceWarning)\n",
            "/usr/local/lib/python3.7/dist-packages/sklearn/neural_network/_multilayer_perceptron.py:571: ConvergenceWarning: Stochastic Optimizer: Maximum iterations (100) reached and the optimization hasn't converged yet.\n",
            "  % self.max_iter, ConvergenceWarning)\n",
            "/usr/local/lib/python3.7/dist-packages/sklearn/neural_network/_multilayer_perceptron.py:571: ConvergenceWarning: Stochastic Optimizer: Maximum iterations (100) reached and the optimization hasn't converged yet.\n",
            "  % self.max_iter, ConvergenceWarning)\n",
            "/usr/local/lib/python3.7/dist-packages/sklearn/neural_network/_multilayer_perceptron.py:571: ConvergenceWarning: Stochastic Optimizer: Maximum iterations (100) reached and the optimization hasn't converged yet.\n",
            "  % self.max_iter, ConvergenceWarning)\n",
            "/usr/local/lib/python3.7/dist-packages/sklearn/neural_network/_multilayer_perceptron.py:571: ConvergenceWarning: Stochastic Optimizer: Maximum iterations (100) reached and the optimization hasn't converged yet.\n",
            "  % self.max_iter, ConvergenceWarning)\n",
            "/usr/local/lib/python3.7/dist-packages/sklearn/neural_network/_multilayer_perceptron.py:571: ConvergenceWarning: Stochastic Optimizer: Maximum iterations (100) reached and the optimization hasn't converged yet.\n",
            "  % self.max_iter, ConvergenceWarning)\n",
            "/usr/local/lib/python3.7/dist-packages/sklearn/neural_network/_multilayer_perceptron.py:571: ConvergenceWarning: Stochastic Optimizer: Maximum iterations (100) reached and the optimization hasn't converged yet.\n",
            "  % self.max_iter, ConvergenceWarning)\n",
            "/usr/local/lib/python3.7/dist-packages/sklearn/neural_network/_multilayer_perceptron.py:571: ConvergenceWarning: Stochastic Optimizer: Maximum iterations (100) reached and the optimization hasn't converged yet.\n",
            "  % self.max_iter, ConvergenceWarning)\n",
            "/usr/local/lib/python3.7/dist-packages/sklearn/neural_network/_multilayer_perceptron.py:571: ConvergenceWarning: Stochastic Optimizer: Maximum iterations (100) reached and the optimization hasn't converged yet.\n",
            "  % self.max_iter, ConvergenceWarning)\n",
            "/usr/local/lib/python3.7/dist-packages/sklearn/neural_network/_multilayer_perceptron.py:571: ConvergenceWarning: Stochastic Optimizer: Maximum iterations (100) reached and the optimization hasn't converged yet.\n",
            "  % self.max_iter, ConvergenceWarning)\n",
            "/usr/local/lib/python3.7/dist-packages/sklearn/neural_network/_multilayer_perceptron.py:571: ConvergenceWarning: Stochastic Optimizer: Maximum iterations (100) reached and the optimization hasn't converged yet.\n",
            "  % self.max_iter, ConvergenceWarning)\n",
            "/usr/local/lib/python3.7/dist-packages/sklearn/neural_network/_multilayer_perceptron.py:571: ConvergenceWarning: Stochastic Optimizer: Maximum iterations (100) reached and the optimization hasn't converged yet.\n",
            "  % self.max_iter, ConvergenceWarning)\n",
            "/usr/local/lib/python3.7/dist-packages/sklearn/neural_network/_multilayer_perceptron.py:571: ConvergenceWarning: Stochastic Optimizer: Maximum iterations (100) reached and the optimization hasn't converged yet.\n",
            "  % self.max_iter, ConvergenceWarning)\n",
            "/usr/local/lib/python3.7/dist-packages/sklearn/neural_network/_multilayer_perceptron.py:571: ConvergenceWarning: Stochastic Optimizer: Maximum iterations (100) reached and the optimization hasn't converged yet.\n",
            "  % self.max_iter, ConvergenceWarning)\n",
            "/usr/local/lib/python3.7/dist-packages/sklearn/neural_network/_multilayer_perceptron.py:571: ConvergenceWarning: Stochastic Optimizer: Maximum iterations (100) reached and the optimization hasn't converged yet.\n",
            "  % self.max_iter, ConvergenceWarning)\n",
            "/usr/local/lib/python3.7/dist-packages/sklearn/neural_network/_multilayer_perceptron.py:571: ConvergenceWarning: Stochastic Optimizer: Maximum iterations (100) reached and the optimization hasn't converged yet.\n",
            "  % self.max_iter, ConvergenceWarning)\n",
            "/usr/local/lib/python3.7/dist-packages/sklearn/neural_network/_multilayer_perceptron.py:571: ConvergenceWarning: Stochastic Optimizer: Maximum iterations (100) reached and the optimization hasn't converged yet.\n",
            "  % self.max_iter, ConvergenceWarning)\n",
            "/usr/local/lib/python3.7/dist-packages/sklearn/neural_network/_multilayer_perceptron.py:571: ConvergenceWarning: Stochastic Optimizer: Maximum iterations (100) reached and the optimization hasn't converged yet.\n",
            "  % self.max_iter, ConvergenceWarning)\n",
            "/usr/local/lib/python3.7/dist-packages/sklearn/neural_network/_multilayer_perceptron.py:571: ConvergenceWarning: Stochastic Optimizer: Maximum iterations (100) reached and the optimization hasn't converged yet.\n",
            "  % self.max_iter, ConvergenceWarning)\n",
            "/usr/local/lib/python3.7/dist-packages/sklearn/neural_network/_multilayer_perceptron.py:571: ConvergenceWarning: Stochastic Optimizer: Maximum iterations (100) reached and the optimization hasn't converged yet.\n",
            "  % self.max_iter, ConvergenceWarning)\n",
            "/usr/local/lib/python3.7/dist-packages/sklearn/neural_network/_multilayer_perceptron.py:571: ConvergenceWarning: Stochastic Optimizer: Maximum iterations (100) reached and the optimization hasn't converged yet.\n",
            "  % self.max_iter, ConvergenceWarning)\n",
            "/usr/local/lib/python3.7/dist-packages/sklearn/neural_network/_multilayer_perceptron.py:571: ConvergenceWarning: Stochastic Optimizer: Maximum iterations (100) reached and the optimization hasn't converged yet.\n",
            "  % self.max_iter, ConvergenceWarning)\n",
            "/usr/local/lib/python3.7/dist-packages/sklearn/neural_network/_multilayer_perceptron.py:571: ConvergenceWarning: Stochastic Optimizer: Maximum iterations (100) reached and the optimization hasn't converged yet.\n",
            "  % self.max_iter, ConvergenceWarning)\n",
            "/usr/local/lib/python3.7/dist-packages/sklearn/neural_network/_multilayer_perceptron.py:571: ConvergenceWarning: Stochastic Optimizer: Maximum iterations (100) reached and the optimization hasn't converged yet.\n",
            "  % self.max_iter, ConvergenceWarning)\n",
            "/usr/local/lib/python3.7/dist-packages/sklearn/neural_network/_multilayer_perceptron.py:571: ConvergenceWarning: Stochastic Optimizer: Maximum iterations (100) reached and the optimization hasn't converged yet.\n",
            "  % self.max_iter, ConvergenceWarning)\n",
            "/usr/local/lib/python3.7/dist-packages/sklearn/neural_network/_multilayer_perceptron.py:571: ConvergenceWarning: Stochastic Optimizer: Maximum iterations (100) reached and the optimization hasn't converged yet.\n",
            "  % self.max_iter, ConvergenceWarning)\n",
            "/usr/local/lib/python3.7/dist-packages/sklearn/neural_network/_multilayer_perceptron.py:571: ConvergenceWarning: Stochastic Optimizer: Maximum iterations (100) reached and the optimization hasn't converged yet.\n",
            "  % self.max_iter, ConvergenceWarning)\n",
            "/usr/local/lib/python3.7/dist-packages/sklearn/neural_network/_multilayer_perceptron.py:571: ConvergenceWarning: Stochastic Optimizer: Maximum iterations (100) reached and the optimization hasn't converged yet.\n",
            "  % self.max_iter, ConvergenceWarning)\n",
            "/usr/local/lib/python3.7/dist-packages/sklearn/neural_network/_multilayer_perceptron.py:571: ConvergenceWarning: Stochastic Optimizer: Maximum iterations (100) reached and the optimization hasn't converged yet.\n",
            "  % self.max_iter, ConvergenceWarning)\n",
            "/usr/local/lib/python3.7/dist-packages/sklearn/neural_network/_multilayer_perceptron.py:571: ConvergenceWarning: Stochastic Optimizer: Maximum iterations (100) reached and the optimization hasn't converged yet.\n",
            "  % self.max_iter, ConvergenceWarning)\n"
          ],
          "name": "stderr"
        },
        {
          "output_type": "stream",
          "text": [
            "Resultados Random Search: \n",
            "|    | params                                                                                               |   mean_test_score |   std_test_score |   rank_test_score |\n",
            "|---:|:-----------------------------------------------------------------------------------------------------|------------------:|-----------------:|------------------:|\n",
            "|  0 | {'learning_rate': 'adaptive', 'hidden_layer_sizes': 75, 'batch_size': 90, 'activation': 'tanh'}      |          0.860565 |        0.0553827 |                 1 |\n",
            "|  1 | {'learning_rate': 'constant', 'hidden_layer_sizes': 50, 'batch_size': 100, 'activation': 'tanh'}     |          0.842387 |        0.0597935 |                 3 |\n",
            "|  2 | {'learning_rate': 'adaptive', 'hidden_layer_sizes': 75, 'batch_size': 130, 'activation': 'tanh'}     |          0.83925  |        0.0389445 |                 5 |\n",
            "|  3 | {'learning_rate': 'adaptive', 'hidden_layer_sizes': 100, 'batch_size': 90, 'activation': 'tanh'}     |          0.841196 |        0.058178  |                 4 |\n",
            "|  4 | {'learning_rate': 'constant', 'hidden_layer_sizes': 75, 'batch_size': 'auto', 'activation': 'tanh'}  |          0.819352 |        0.0629187 |                 8 |\n",
            "|  5 | {'learning_rate': 'adaptive', 'hidden_layer_sizes': 100, 'batch_size': 'auto', 'activation': 'tanh'} |          0.82992  |        0.0449382 |                 6 |\n",
            "|  6 | {'learning_rate': 'constant', 'hidden_layer_sizes': 75, 'batch_size': 90, 'activation': 'tanh'}      |          0.846277 |        0.0685727 |                 2 |\n",
            "|  7 | {'learning_rate': 'adaptive', 'hidden_layer_sizes': 75, 'batch_size': 100, 'activation': 'relu'}     |          0.783345 |        0.0747776 |                10 |\n",
            "|  8 | {'learning_rate': 'adaptive', 'hidden_layer_sizes': 75, 'batch_size': 90, 'activation': 'relu'}      |          0.795236 |        0.0225951 |                 9 |\n",
            "|  9 | {'learning_rate': 'adaptive', 'hidden_layer_sizes': 50, 'batch_size': 70, 'activation': 'relu'}      |          0.822388 |        0.035079  |                 7 |\n"
          ],
          "name": "stdout"
        },
        {
          "output_type": "stream",
          "text": [
            "/usr/local/lib/python3.7/dist-packages/sklearn/neural_network/_multilayer_perceptron.py:571: ConvergenceWarning: Stochastic Optimizer: Maximum iterations (100) reached and the optimization hasn't converged yet.\n",
            "  % self.max_iter, ConvergenceWarning)\n"
          ],
          "name": "stderr"
        },
        {
          "output_type": "error",
          "ename": "ValueError",
          "evalue": "ignored",
          "traceback": [
            "\u001b[0;31m---------------------------------------------------------------------------\u001b[0m",
            "\u001b[0;31mValueError\u001b[0m                                Traceback (most recent call last)",
            "\u001b[0;32m<ipython-input-7-91d0a4f7369e>\u001b[0m in \u001b[0;36m<module>\u001b[0;34m()\u001b[0m\n\u001b[1;32m     37\u001b[0m \u001b[0;34m\u001b[0m\u001b[0m\n\u001b[1;32m     38\u001b[0m \u001b[0mplt\u001b[0m\u001b[0;34m.\u001b[0m\u001b[0mplot\u001b[0m\u001b[0;34m(\u001b[0m\u001b[0mrange\u001b[0m\u001b[0;34m(\u001b[0m\u001b[0;36m100\u001b[0m\u001b[0;34m)\u001b[0m\u001b[0;34m,\u001b[0m \u001b[0mTreino_Perda\u001b[0m\u001b[0;34m,\u001b[0m \u001b[0mcolor\u001b[0m\u001b[0;34m=\u001b[0m \u001b[0;34m'orange'\u001b[0m\u001b[0;34m,\u001b[0m \u001b[0mlabel\u001b[0m\u001b[0;34m=\u001b[0m \u001b[0;34m'RMSE_Treino'\u001b[0m\u001b[0;34m)\u001b[0m\u001b[0;34m\u001b[0m\u001b[0;34m\u001b[0m\u001b[0m\n\u001b[0;32m---> 39\u001b[0;31m \u001b[0mplt\u001b[0m\u001b[0;34m.\u001b[0m\u001b[0mplot\u001b[0m\u001b[0;34m(\u001b[0m\u001b[0mrange\u001b[0m\u001b[0;34m(\u001b[0m\u001b[0;36m100\u001b[0m\u001b[0;34m)\u001b[0m\u001b[0;34m,\u001b[0m \u001b[0mTeste_Perda\u001b[0m\u001b[0;34m,\u001b[0m \u001b[0mcolor\u001b[0m\u001b[0;34m=\u001b[0m \u001b[0;34m'b'\u001b[0m\u001b[0;34m,\u001b[0m \u001b[0mlabel\u001b[0m\u001b[0;34m=\u001b[0m \u001b[0;34m'RMSE_Teste'\u001b[0m\u001b[0;34m)\u001b[0m\u001b[0;34m\u001b[0m\u001b[0;34m\u001b[0m\u001b[0m\n\u001b[0m\u001b[1;32m     40\u001b[0m \u001b[0mplt\u001b[0m\u001b[0;34m.\u001b[0m\u001b[0mtitle\u001b[0m\u001b[0;34m(\u001b[0m\u001b[0;34m\"RMSE: Treino X Teste\"\u001b[0m\u001b[0;34m)\u001b[0m\u001b[0;34m\u001b[0m\u001b[0;34m\u001b[0m\u001b[0m\n\u001b[1;32m     41\u001b[0m \u001b[0mplt\u001b[0m\u001b[0;34m.\u001b[0m\u001b[0mlegend\u001b[0m\u001b[0;34m(\u001b[0m\u001b[0;34m)\u001b[0m\u001b[0;34m\u001b[0m\u001b[0;34m\u001b[0m\u001b[0m\n",
            "\u001b[0;32m/usr/local/lib/python3.7/dist-packages/matplotlib/pyplot.py\u001b[0m in \u001b[0;36mplot\u001b[0;34m(scalex, scaley, data, *args, **kwargs)\u001b[0m\n\u001b[1;32m   2761\u001b[0m     return gca().plot(\n\u001b[1;32m   2762\u001b[0m         *args, scalex=scalex, scaley=scaley, **({\"data\": data} if data\n\u001b[0;32m-> 2763\u001b[0;31m         is not None else {}), **kwargs)\n\u001b[0m\u001b[1;32m   2764\u001b[0m \u001b[0;34m\u001b[0m\u001b[0m\n\u001b[1;32m   2765\u001b[0m \u001b[0;34m\u001b[0m\u001b[0m\n",
            "\u001b[0;32m/usr/local/lib/python3.7/dist-packages/matplotlib/axes/_axes.py\u001b[0m in \u001b[0;36mplot\u001b[0;34m(self, scalex, scaley, data, *args, **kwargs)\u001b[0m\n\u001b[1;32m   1645\u001b[0m         \"\"\"\n\u001b[1;32m   1646\u001b[0m         \u001b[0mkwargs\u001b[0m \u001b[0;34m=\u001b[0m \u001b[0mcbook\u001b[0m\u001b[0;34m.\u001b[0m\u001b[0mnormalize_kwargs\u001b[0m\u001b[0;34m(\u001b[0m\u001b[0mkwargs\u001b[0m\u001b[0;34m,\u001b[0m \u001b[0mmlines\u001b[0m\u001b[0;34m.\u001b[0m\u001b[0mLine2D\u001b[0m\u001b[0;34m)\u001b[0m\u001b[0;34m\u001b[0m\u001b[0;34m\u001b[0m\u001b[0m\n\u001b[0;32m-> 1647\u001b[0;31m         \u001b[0mlines\u001b[0m \u001b[0;34m=\u001b[0m \u001b[0;34m[\u001b[0m\u001b[0;34m*\u001b[0m\u001b[0mself\u001b[0m\u001b[0;34m.\u001b[0m\u001b[0m_get_lines\u001b[0m\u001b[0;34m(\u001b[0m\u001b[0;34m*\u001b[0m\u001b[0margs\u001b[0m\u001b[0;34m,\u001b[0m \u001b[0mdata\u001b[0m\u001b[0;34m=\u001b[0m\u001b[0mdata\u001b[0m\u001b[0;34m,\u001b[0m \u001b[0;34m**\u001b[0m\u001b[0mkwargs\u001b[0m\u001b[0;34m)\u001b[0m\u001b[0;34m]\u001b[0m\u001b[0;34m\u001b[0m\u001b[0;34m\u001b[0m\u001b[0m\n\u001b[0m\u001b[1;32m   1648\u001b[0m         \u001b[0;32mfor\u001b[0m \u001b[0mline\u001b[0m \u001b[0;32min\u001b[0m \u001b[0mlines\u001b[0m\u001b[0;34m:\u001b[0m\u001b[0;34m\u001b[0m\u001b[0;34m\u001b[0m\u001b[0m\n\u001b[1;32m   1649\u001b[0m             \u001b[0mself\u001b[0m\u001b[0;34m.\u001b[0m\u001b[0madd_line\u001b[0m\u001b[0;34m(\u001b[0m\u001b[0mline\u001b[0m\u001b[0;34m)\u001b[0m\u001b[0;34m\u001b[0m\u001b[0;34m\u001b[0m\u001b[0m\n",
            "\u001b[0;32m/usr/local/lib/python3.7/dist-packages/matplotlib/axes/_base.py\u001b[0m in \u001b[0;36m__call__\u001b[0;34m(self, *args, **kwargs)\u001b[0m\n\u001b[1;32m    214\u001b[0m                 \u001b[0mthis\u001b[0m \u001b[0;34m+=\u001b[0m \u001b[0margs\u001b[0m\u001b[0;34m[\u001b[0m\u001b[0;36m0\u001b[0m\u001b[0;34m]\u001b[0m\u001b[0;34m,\u001b[0m\u001b[0;34m\u001b[0m\u001b[0;34m\u001b[0m\u001b[0m\n\u001b[1;32m    215\u001b[0m                 \u001b[0margs\u001b[0m \u001b[0;34m=\u001b[0m \u001b[0margs\u001b[0m\u001b[0;34m[\u001b[0m\u001b[0;36m1\u001b[0m\u001b[0;34m:\u001b[0m\u001b[0;34m]\u001b[0m\u001b[0;34m\u001b[0m\u001b[0;34m\u001b[0m\u001b[0m\n\u001b[0;32m--> 216\u001b[0;31m             \u001b[0;32myield\u001b[0m \u001b[0;32mfrom\u001b[0m \u001b[0mself\u001b[0m\u001b[0;34m.\u001b[0m\u001b[0m_plot_args\u001b[0m\u001b[0;34m(\u001b[0m\u001b[0mthis\u001b[0m\u001b[0;34m,\u001b[0m \u001b[0mkwargs\u001b[0m\u001b[0;34m)\u001b[0m\u001b[0;34m\u001b[0m\u001b[0;34m\u001b[0m\u001b[0m\n\u001b[0m\u001b[1;32m    217\u001b[0m \u001b[0;34m\u001b[0m\u001b[0m\n\u001b[1;32m    218\u001b[0m     \u001b[0;32mdef\u001b[0m \u001b[0mget_next_color\u001b[0m\u001b[0;34m(\u001b[0m\u001b[0mself\u001b[0m\u001b[0;34m)\u001b[0m\u001b[0;34m:\u001b[0m\u001b[0;34m\u001b[0m\u001b[0;34m\u001b[0m\u001b[0m\n",
            "\u001b[0;32m/usr/local/lib/python3.7/dist-packages/matplotlib/axes/_base.py\u001b[0m in \u001b[0;36m_plot_args\u001b[0;34m(self, tup, kwargs)\u001b[0m\n\u001b[1;32m    340\u001b[0m \u001b[0;34m\u001b[0m\u001b[0m\n\u001b[1;32m    341\u001b[0m         \u001b[0;32mif\u001b[0m \u001b[0mx\u001b[0m\u001b[0;34m.\u001b[0m\u001b[0mshape\u001b[0m\u001b[0;34m[\u001b[0m\u001b[0;36m0\u001b[0m\u001b[0;34m]\u001b[0m \u001b[0;34m!=\u001b[0m \u001b[0my\u001b[0m\u001b[0;34m.\u001b[0m\u001b[0mshape\u001b[0m\u001b[0;34m[\u001b[0m\u001b[0;36m0\u001b[0m\u001b[0;34m]\u001b[0m\u001b[0;34m:\u001b[0m\u001b[0;34m\u001b[0m\u001b[0;34m\u001b[0m\u001b[0m\n\u001b[0;32m--> 342\u001b[0;31m             raise ValueError(f\"x and y must have same first dimension, but \"\n\u001b[0m\u001b[1;32m    343\u001b[0m                              f\"have shapes {x.shape} and {y.shape}\")\n\u001b[1;32m    344\u001b[0m         \u001b[0;32mif\u001b[0m \u001b[0mx\u001b[0m\u001b[0;34m.\u001b[0m\u001b[0mndim\u001b[0m \u001b[0;34m>\u001b[0m \u001b[0;36m2\u001b[0m \u001b[0;32mor\u001b[0m \u001b[0my\u001b[0m\u001b[0;34m.\u001b[0m\u001b[0mndim\u001b[0m \u001b[0;34m>\u001b[0m \u001b[0;36m2\u001b[0m\u001b[0;34m:\u001b[0m\u001b[0;34m\u001b[0m\u001b[0;34m\u001b[0m\u001b[0m\n",
            "\u001b[0;31mValueError\u001b[0m: x and y must have same first dimension, but have shapes (100,) and (95,)"
          ]
        },
        {
          "output_type": "display_data",
          "data": {
            "image/png": "[encoded data removed]",
            "text/plain": [
              "<Figure size 432x288 with 1 Axes>"
            ]
          },
          "metadata": {
            "tags": [],
            "needs_background": "light"
          }
        }
      ]
    },
    {
      "cell_type": "markdown",
      "metadata": {
        "id": "OEqWVOzeMxsf"
      },
      "source": [
        "# **Questão 2:**"
      ]
    },
    {
      "cell_type": "code",
      "metadata": {
        "id": "QXgL3VXiM1sv"
      },
      "source": [
        "def CLA_MLP(dados,iteracoes=1000):\n",
        "  y_treino, y_teste ,X_treino, X_teste = dividir_treino_teste(dados)\n",
        "\n",
        "  X_normalize = normalize_01(X_treino)\n",
        "  X_treino = X_normalize.norma(X_treino)\n",
        "  X_treino = np.c_[(np.ones(X_treino.shape[0]), X_treino)]\n",
        "  X_teste = np.c_[(np.ones(X_teste.shape[0]), X_teste)]\n",
        "\n",
        "  parametros = {'hidden_layer_sizes': (25, 50, 75, 100),\n",
        "                'learning_rate': ('constant','adaptive'), \n",
        "                'batch_size':(70, 90, 100, 130, 'auto'),\n",
        "                'activation':('tanh','relu')}\n",
        "\n",
        "  Modelo = mlp_c(solver= 'sgd', max_iter= iteracoes, random_state= 0, verbose= False, learning_rate_init= 0.01, \n",
        "                 early_stopping= False, momentum= 0.9, nesterovs_momentum= False, shuffle= False)\n",
        "\n",
        "  #Random Search\n",
        "  Model = RandomSearch(Modelo, parametros, refit= True, cv= 5, verbose= False)\n",
        "\n",
        "  #Resultado do Random Search\n",
        "  Model.fit(X_treino, y_treino.ravel())\n",
        "  mark = pd.DataFrame(Model.cv_results_)\n",
        "  print(f\"Resultados Random Search: \\n{mark[['params','mean_test_score','std_test_score','rank_test_score']].to_markdown()}\")\n",
        "\n",
        "  #Treinando o modelo com os melhores parametros do Random Search\n",
        "  Modelo.set_params(**Model.best_params_)\n",
        "\n",
        "  #Adiquirindo as méticas\n",
        "  Modelo.fit(X_treino, y_treino.ravel())\n",
        "  Treino_Perda = Modelo.predict(X_treino)\n",
        "\n",
        "  Modelo.fit(X_teste, y_teste.ravel())\n",
        "  Teste_Perda = Modelo.predict(X_teste)\n",
        "  \n",
        "  return Treino_Perda, Teste_Perda, y_treino, y_teste\n",
        "\n",
        "Treino_Perda, Teste_Perda, y_treino, y_teste = CLA_MLP(vowel_dataset)\n",
        "\n",
        "metr_treino = metricas(y_treino, Treino_Perda)\n",
        "print(f\"Acuracia: {metr_treino['Acuracia']:.2%} \\n\"\n",
        "      f\"Revocacao: {metr_treino['Revocacao']:.2%} \\n\"\n",
        "      f\"Precisao: {metr_treino['Precisao']:.2%} \\n\"\n",
        "      f\"F1_Score: {metr_treino['F1_Score']:.2%} \\n\")"
      ],
      "execution_count": null,
      "outputs": []
    }
  ]
}